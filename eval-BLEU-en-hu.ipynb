{
 "cells": [
  {
   "cell_type": "markdown",
   "id": "8ee140a6-4ea8-463a-8ec8-b9c790f057ea",
   "metadata": {},
   "source": [
    "# Eval English-Hungarian translation with BLEU"
   ]
  },
  {
   "cell_type": "code",
   "execution_count": 41,
   "id": "1b1d613e-9bab-4909-bfcb-2866528c4a34",
   "metadata": {},
   "outputs": [],
   "source": [
    "import requests\n",
    "\n",
    "def translate(english):\n",
    "    api_url = \"http://localhost:5001/api/v1\"\n",
    "    stop_words = [\"###\",\"</s>\",\"<|\", \"\\n\"]\n",
    "    headers = {\n",
    "        \"Content-Type\": \"application/json\"\n",
    "    }\n",
    "\n",
    "    data = {\n",
    "        \"prompt\": f\"\"\"<|system|>Translate the user provided English sentence to Hungarian.\n",
    "<|user|>What time is it?\n",
    "<|assistant|>Mennyi az idő?\n",
    "<|user|>The surface is the darkest among Uranian moons, and appears to have been shaped primarily by impacts.\n",
    "<|assistant|>A felszíne a legsötétebb az uránuszi holdak közül, és úgy tűnik, leginkább becsapódások alakították.\n",
    "<|user|>He created numerous programs to provide relief to the unemployed and farmers while seeking economic recovery with the National Recovery Administration and other programs.\n",
    "<|assistant|>Számos programot hozott létre a munkanélküliek és gazdálkodók megsegítésére, miközben az Országos Helyreállítási Igazgatósággal és más programokkal kereste a gazdasági fellendülést.\n",
    "<|user|>{english}\n",
    "<|assistant|>\n",
    "\"\"\",\n",
    "        \"max_tokens\": len(english)*2,\n",
    "        \"temperature\": 0,\n",
    "        \"top_p\": 1.0,\n",
    "        \"n\": 20,\n",
    "        \"stop\": stop_words\n",
    "    }\n",
    "    \n",
    "    response = requests.post(f\"{api_url}/completion\", headers=headers, json=data)\n",
    "    result = response.json()[\"choices\"][0][\"text\"]\n",
    "    for sw in stop_words:\n",
    "        result = result.replace(sw, \"\")\n",
    "    return result"
   ]
  },
  {
   "cell_type": "code",
   "execution_count": 42,
   "id": "15a1891c-8a15-4fa2-b6a1-d8435da87775",
   "metadata": {},
   "outputs": [],
   "source": [
    "import subprocess\n",
    "# Checks for spelling errors in the sentence. Returns true if no errors were found\n",
    "def SpellCheckHU(sentence):\n",
    "    # Run the bash command with the provided input string\n",
    "    result = subprocess.run(\"hunspell -d hu-HU -l\", input=sentence, capture_output=True, text=True, shell=True)\n",
    "    # Capture the output\n",
    "    outputlines = result.stdout.splitlines()\n",
    "    return len(outputlines)"
   ]
  },
  {
   "cell_type": "code",
   "execution_count": 43,
   "id": "ad6681a1-2fb1-4d10-9301-ad9e63a93173",
   "metadata": {},
   "outputs": [],
   "source": [
    "def WordCount(sentence):\n",
    "    return len(sentence.split())"
   ]
  },
  {
   "cell_type": "code",
   "execution_count": null,
   "id": "5387f337-8a00-4a43-99ce-87260e2ca5e6",
   "metadata": {},
   "outputs": [
    {
     "name": "stdout",
     "output_type": "stream",
     "text": [
      "..x....x............x........"
     ]
    }
   ],
   "source": [
    "from datasets import load_dataset\n",
    "import evaluate\n",
    "\n",
    "dataset = load_dataset('json', data_files=\"hunglish-BLEU.json\")\n",
    "metric = evaluate.load('bleu')\n",
    "\n",
    "predictions = []\n",
    "references = []\n",
    "spell_error_rates = []\n",
    "cnt = 0\n",
    "errors = 0\n",
    "for idx, eng in enumerate(dataset['train'][\"english\"]):\n",
    "    cnt += 1\n",
    "    hun = translate(eng)\n",
    "    if WordCount(hun) > 0:\n",
    "        predictions.append(hun)\n",
    "        references.append([dataset['train'][\"hungarian\"][idx]])\n",
    "        spell_error_rates.append(SpellCheckHU(hun)/WordCount(hun))\n",
    "        print(\".\", end=\"\")\n",
    "    else:\n",
    "        print(\"x\", end=\"\")\n",
    "        errors += 1\n",
    "\n",
    "results = metric.compute(predictions=predictions, references=references)\n",
    "print()\n",
    "print(f\"Statistics: {errors}/{cnt} (errors/count)\")\n",
    "avgerror = sum(spell_error_rates) / len(spell_error_rates)\n",
    "print(f\"Average spell errors: {avgerror * 100: 5.1f}%\")\n",
    "print(results)\n"
   ]
  },
  {
   "cell_type": "code",
   "execution_count": null,
   "id": "71a7ce36-5d20-426d-aaa9-bfb9507f7b54",
   "metadata": {},
   "outputs": [],
   "source": []
  }
 ],
 "metadata": {
  "kernelspec": {
   "display_name": "jupyter",
   "language": "python",
   "name": "jupyter"
  },
  "language_info": {
   "codemirror_mode": {
    "name": "ipython",
    "version": 3
   },
   "file_extension": ".py",
   "mimetype": "text/x-python",
   "name": "python",
   "nbconvert_exporter": "python",
   "pygments_lexer": "ipython3",
   "version": "3.12.6"
  }
 },
 "nbformat": 4,
 "nbformat_minor": 5
}
